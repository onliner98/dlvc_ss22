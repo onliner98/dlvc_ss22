{
 "cells": [
  {
   "cell_type": "code",
   "execution_count": 44,
   "id": "bc2cfe8f",
   "metadata": {
    "scrolled": true
   },
   "outputs": [
    {
     "name": "stdout",
     "output_type": "stream",
     "text": [
      "Xshape, yshape, len, n class:  (7959, 32, 32, 3) (7959,) 7959 2\n",
      "dtype X,y:  uint8 int64\n",
      "sample:  Sample(idx=0, data=array([[[116, 125, 125],\n",
      "        [ 91, 101, 110],\n",
      "        [ 83,  90, 102],\n",
      "        ...,\n",
      "        [214, 207, 202],\n",
      "        [212, 205, 200],\n",
      "        [214, 208, 202]],\n",
      "\n",
      "       [[142, 146, 142],\n",
      "        [139, 144, 146],\n",
      "        [170, 172, 176],\n",
      "        ...,\n",
      "        [205, 201, 195],\n",
      "        [209, 205, 198],\n",
      "        [215, 211, 204]],\n",
      "\n",
      "       [[183, 185, 180],\n",
      "        [146, 146, 143],\n",
      "        [157, 157, 156],\n",
      "        ...,\n",
      "        [113, 111, 122],\n",
      "        [131, 128, 139],\n",
      "        [150, 147, 158]],\n",
      "\n",
      "       ...,\n",
      "\n",
      "       [[ 41,  82, 104],\n",
      "        [ 39,  80, 101],\n",
      "        [ 38,  81, 101],\n",
      "        ...,\n",
      "        [ 67, 103, 126],\n",
      "        [ 69, 103, 126],\n",
      "        [ 68, 101, 125]],\n",
      "\n",
      "       [[ 40,  81, 104],\n",
      "        [ 41,  84, 105],\n",
      "        [ 43,  88, 109],\n",
      "        ...,\n",
      "        [ 78, 113, 138],\n",
      "        [ 80, 113, 137],\n",
      "        [ 81, 112, 137]],\n",
      "\n",
      "       [[ 42,  83, 105],\n",
      "        [ 45,  87, 108],\n",
      "        [ 50,  94, 115],\n",
      "        ...,\n",
      "        [ 82, 117, 143],\n",
      "        [ 84, 116, 143],\n",
      "        [ 86, 116, 144]]], dtype=uint8), label=0)\n",
      "y.  [0 0 0 0 1 0 0 0 0 1]\n"
     ]
    },
    {
     "data": {
      "text/plain": "True"
     },
     "execution_count": 44,
     "metadata": {},
     "output_type": "execute_result"
    }
   ],
   "source": [
    "import cv2\n",
    "import numpy as np\n",
    "from dlvc.datasets.pets import PetsDataset, Subset\n",
    "from assignments.src.dlvc import ops\n",
    "from assignments.src.dlvc.batches import BatchGenerator\n",
    "from assignments.src.dlvc.dataset import Dataset, ClassificationDataset\n",
    "\n",
    "fdir = '/mnt/1028D91228D8F7A4/Python Project/PycharmProjects/DeepLearning/assignments/src/cifar10'\n",
    "pds = PetsDataset(fdir, Subset.TRAINING)\n",
    "print('Xshape, yshape, len, n class: ', pds.X.shape, pds.y.shape, len(pds), pds.num_classes())\n",
    "print('dtype X,y: ', pds.X.dtype, pds.y.dtype)\n",
    "print('sample: ', pds[0])\n",
    "print('y. ', pds.y[0:10])\n",
    "\n",
    "cv2.imwrite('sample.png', pds[10][1])"
   ]
  },
  {
   "cell_type": "code",
   "execution_count": 35,
   "id": "b6e47886",
   "metadata": {},
   "outputs": [],
   "source": [
    "\n",
    "#test part 2 assignment 1\n",
    "op = ops.chain([\n",
    "    ops.vectorize(),\n",
    "    ops.type_cast(np.float32),\n",
    "    ops.add(-127.5),\n",
    "    ops.mul(1/127.5),\n",
    "])"
   ]
  },
  {
   "cell_type": "code",
   "execution_count": 46,
   "outputs": [
    {
     "ename": "TypeError",
     "evalue": "Invalid type for dataset. Expected:<class 'assignments.src.dlvc.dataset.Dataset'>. Provided:<class 'dlvc.datasets.pets.PetsDataset'>.",
     "output_type": "error",
     "traceback": [
      "\u001B[0;31m---------------------------------------------------------------------------\u001B[0m",
      "\u001B[0;31mTypeError\u001B[0m                                 Traceback (most recent call last)",
      "\u001B[0;32m<ipython-input-46-51c99fd94894>\u001B[0m in \u001B[0;36m<module>\u001B[0;34m\u001B[0m\n\u001B[1;32m      1\u001B[0m \u001B[0mtrain_ds\u001B[0m \u001B[0;34m=\u001B[0m \u001B[0mPetsDataset\u001B[0m\u001B[0;34m(\u001B[0m\u001B[0mfdir\u001B[0m\u001B[0;34m,\u001B[0m \u001B[0mSubset\u001B[0m\u001B[0;34m.\u001B[0m\u001B[0mTRAINING\u001B[0m\u001B[0;34m)\u001B[0m\u001B[0;34m\u001B[0m\u001B[0;34m\u001B[0m\u001B[0m\n\u001B[0;32m----> 2\u001B[0;31m \u001B[0mbg\u001B[0m \u001B[0;34m=\u001B[0m \u001B[0mBatchGenerator\u001B[0m\u001B[0;34m(\u001B[0m\u001B[0mtrain_ds\u001B[0m\u001B[0;34m,\u001B[0m \u001B[0;36m10\u001B[0m\u001B[0;34m,\u001B[0m \u001B[0;32mFalse\u001B[0m\u001B[0;34m,\u001B[0m \u001B[0mop\u001B[0m\u001B[0;34m)\u001B[0m\u001B[0;34m\u001B[0m\u001B[0;34m\u001B[0m\u001B[0m\n\u001B[0m",
      "\u001B[0;32m/mnt/1028D91228D8F7A4/Python Project/PycharmProjects/DeepLearning/assignments/src/dlvc/batches.py\u001B[0m in \u001B[0;36m__init__\u001B[0;34m(self, dataset, num, shuffle, op)\u001B[0m\n\u001B[1;32m     46\u001B[0m \u001B[0;34m\u001B[0m\u001B[0m\n\u001B[1;32m     47\u001B[0m         \u001B[0;32mif\u001B[0m \u001B[0;32mnot\u001B[0m \u001B[0misinstance\u001B[0m\u001B[0;34m(\u001B[0m\u001B[0mdataset\u001B[0m\u001B[0;34m,\u001B[0m \u001B[0mDataset\u001B[0m\u001B[0;34m)\u001B[0m\u001B[0;34m:\u001B[0m\u001B[0;34m\u001B[0m\u001B[0;34m\u001B[0m\u001B[0m\n\u001B[0;32m---> 48\u001B[0;31m             \u001B[0;32mraise\u001B[0m \u001B[0mTypeError\u001B[0m\u001B[0;34m(\u001B[0m\u001B[0;34mf'Invalid type for dataset. Expected:{Dataset}. Provided:{type(dataset)}.'\u001B[0m\u001B[0;34m)\u001B[0m\u001B[0;34m\u001B[0m\u001B[0;34m\u001B[0m\u001B[0m\n\u001B[0m\u001B[1;32m     49\u001B[0m         \u001B[0;32mif\u001B[0m \u001B[0;32mnot\u001B[0m \u001B[0misinstance\u001B[0m\u001B[0;34m(\u001B[0m\u001B[0mnum\u001B[0m\u001B[0;34m,\u001B[0m \u001B[0mint\u001B[0m\u001B[0;34m)\u001B[0m\u001B[0;34m:\u001B[0m\u001B[0;34m\u001B[0m\u001B[0;34m\u001B[0m\u001B[0m\n\u001B[1;32m     50\u001B[0m             \u001B[0;32mraise\u001B[0m \u001B[0mTypeError\u001B[0m\u001B[0;34m(\u001B[0m\u001B[0;34mf'Invalid type argument for num. Expected:{int}. Provided:{type(num)}.'\u001B[0m\u001B[0;34m)\u001B[0m\u001B[0;34m\u001B[0m\u001B[0;34m\u001B[0m\u001B[0m\n",
      "\u001B[0;31mTypeError\u001B[0m: Invalid type for dataset. Expected:<class 'assignments.src.dlvc.dataset.Dataset'>. Provided:<class 'dlvc.datasets.pets.PetsDataset'>."
     ]
    }
   ],
   "source": [
    "train_ds = PetsDataset(fdir, Subset.TRAINING)\n",
    "bg = BatchGenerator(train_ds, 10, False, op)"
   ],
   "metadata": {
    "collapsed": false,
    "pycharm": {
     "name": "#%%\n"
    }
   }
  }
 ],
 "metadata": {
  "kernelspec": {
   "display_name": "Python 3 (ipykernel)",
   "language": "python",
   "name": "python3"
  },
  "language_info": {
   "codemirror_mode": {
    "name": "ipython",
    "version": 3
   },
   "file_extension": ".py",
   "mimetype": "text/x-python",
   "name": "python",
   "nbconvert_exporter": "python",
   "pygments_lexer": "ipython3",
   "version": "3.10.2"
  }
 },
 "nbformat": 4,
 "nbformat_minor": 5
}